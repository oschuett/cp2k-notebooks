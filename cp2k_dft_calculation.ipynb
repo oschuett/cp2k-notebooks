{
 "cells": [
  {
   "cell_type": "markdown",
   "metadata": {},
   "source": [
    "# Submit CP2K DFT Calculation"
   ]
  },
  {
   "cell_type": "code",
   "execution_count": null,
   "metadata": {
    "collapsed": true
   },
   "outputs": [],
   "source": [
    "from aiida import load_dbenv, is_dbenv_loaded\n",
    "from aiida.backends import settings\n",
    "if not is_dbenv_loaded():\n",
    "    load_dbenv(profile=settings.AIIDADB_PROFILE)\n",
    "\n",
    "from aiida.orm.querybuilder import QueryBuilder\n",
    "from aiida.orm.data.structure import StructureData\n",
    "from aiida.orm.data.parameter import ParameterData\n",
    "from aiida.orm.code import Code\n",
    "from aiida.orm.computer import Computer\n",
    "from aiida.orm import load_node \n",
    "\n",
    "import ipywidgets as ipw\n",
    "from IPython.display import display, clear_output, HTML\n",
    "import nglview\n",
    "\n",
    "from collections import OrderedDict\n",
    "width = \"150px\""
   ]
  },
  {
   "cell_type": "markdown",
   "metadata": {},
   "source": [
    "## Step 1: Select Structure from Database"
   ]
  },
  {
   "cell_type": "code",
   "execution_count": null,
   "metadata": {
    "collapsed": true
   },
   "outputs": [],
   "source": [
    "# query AiiDA database for structures\n",
    "qb = QueryBuilder()\n",
    "qb.append(StructureData, project=[\"id\", \"description\"])\n",
    "qb.order_by({StructureData: {'ctime': 'desc'}})\n",
    "#print qb.count()\n",
    "\n",
    "all_structs = OrderedDict()\n",
    "all_structs[\"Select a Structure\"] = False\n",
    "for pk, descr in qb.iterall():\n",
    "    label = \"PK: %d\"%pk\n",
    "    if descr:\n",
    "        label += \"; descr: \"+descr\n",
    "    all_structs[label] = pk\n",
    "\n",
    "structure = None\n",
    "def on_struct_change(c):\n",
    "    global structure, atoms\n",
    "    while hasattr(viewer, \"component_0\"):\n",
    "        viewer.component_0.remove_ball_and_stick()\n",
    "        viewer.component_0.remove_unitcell()\n",
    "        cid = viewer.component_0.id\n",
    "        viewer.remove_component(cid)\n",
    "    if drop_struct.value:\n",
    "        structure = load_node(drop_struct.value)\n",
    "        atoms = structure.get_ase()\n",
    "        viewer.add_component(nglview.ASEStructure(atoms)) # adds ball+stick\n",
    "        viewer.add_unitcell()\n",
    "        viewer.center_view()\n",
    "\n",
    "drop_struct = ipw.Dropdown(options=all_structs, value=False)\n",
    "drop_struct.observe(on_struct_change, names='value')\n",
    "viewer = nglview.NGLWidget()\n",
    "display(ipw.VBox([drop_struct, viewer]))"
   ]
  },
  {
   "cell_type": "markdown",
   "metadata": {},
   "source": [
    "## Step 2: Choose parameters"
   ]
  },
  {
   "cell_type": "code",
   "execution_count": null,
   "metadata": {
    "collapsed": true
   },
   "outputs": [],
   "source": [
    "def get_computer_names():\n",
    "    #https://github.com/aiidateam/aiida_core/blob/develop/aiida/cmdline/commands/computer.py#L1047\n",
    "    qb = QueryBuilder()\n",
    "    qb.append(Computer, project=['name'])\n",
    "    qb.order_by({Computer: {'id': 'desc'}})\n",
    "    return zip(*qb.all())[0]"
   ]
  },
  {
   "cell_type": "code",
   "execution_count": null,
   "metadata": {
    "collapsed": true
   },
   "outputs": [],
   "source": [
    "rows = []\n",
    "w = \"100px\"\n",
    "\n",
    "inp_compname = ipw.Dropdown(options=get_computer_names())\n",
    "rows.append(ipw.HBox([ipw.Label(\"Computer\", width=width), inp_compname]))\n",
    "\n",
    "inp_xc = ipw.Dropdown(options=[\"LDA\", \"PBE\"])\n",
    "rows.append(ipw.HBox([ipw.Label(\"XC Functional\", width=width), inp_xc]))\n",
    "\n",
    "inp_basis = ipw.Dropdown(options=[\"SZV-MOLOPT-SR-GTH\", \"DZVP-MOLOPT-SR-GTH\"])\n",
    "rows.append(ipw.HBox([ipw.Label(\"Basis Set\", width=width), inp_basis]))\n",
    "\n",
    "inp_descr = ipw.Text(placeholder=\"(optional)\")\n",
    "rows.append(ipw.HBox([ipw.Label(\"Description\", width=width), inp_descr]))\n",
    "\n",
    "display(ipw.VBox(rows))"
   ]
  },
  {
   "cell_type": "markdown",
   "metadata": {},
   "source": [
    "## Step 3: Choose properties"
   ]
  },
  {
   "cell_type": "code",
   "execution_count": null,
   "metadata": {
    "collapsed": true
   },
   "outputs": [],
   "source": [
    "rows = []\n",
    "\n",
    "options = OrderedDict()\n",
    "options['none'] = None\n",
    "options['gap +- 5'] = 5\n",
    "options['gap +- 10'] = 10\n",
    "options['all'] = -1\n",
    "inp_mos = ipw.Dropdown(options=options)\n",
    "rows.append(ipw.HBox([ipw.Label(\"Molecular Orbitals\", width=width), inp_mos]))\n",
    "\n",
    "display(ipw.VBox(rows))"
   ]
  },
  {
   "cell_type": "code",
   "execution_count": null,
   "metadata": {
    "collapsed": true
   },
   "outputs": [],
   "source": [
    "def build_parameters():\n",
    "    kinds = []\n",
    "    for k in structure.get_kind_names():\n",
    "        kinds.append({'_':k, 'BASIS_SET': inp_basis.value,  'POTENTIAL': \"GTH-\"+inp_xc.value})\n",
    "\n",
    "    print_sec = {}\n",
    "    if inp_mos.value:\n",
    "        print_sec['MO_CUBES'] = {'NHOMO': inp_mos.value, 'NLUMO': inp_mos.value}\n",
    "    \n",
    "    force_eval = {\n",
    "            'METHOD': 'Quickstep',\n",
    "            'DFT': {\n",
    "                'BASIS_SET_FILE_NAME': 'BASIS_MOLOPT',\n",
    "                'XC': {\n",
    "                    'XC_FUNCTIONAL': {\n",
    "                        '_': inp_xc.value,\n",
    "                    },\n",
    "                },\n",
    "                'PRINT': print_sec,\n",
    "                \n",
    "            },\n",
    "            'SUBSYS': {\n",
    "                'KIND': kinds,\n",
    "            },\n",
    "        }\n",
    "    return ParameterData(dict={'FORCE_EVAL':force_eval, 'GLOBAL':{'RUN_TYPE':'energy'}})"
   ]
  },
  {
   "cell_type": "code",
   "execution_count": null,
   "metadata": {
    "collapsed": true
   },
   "outputs": [],
   "source": [
    "def build_calc():\n",
    "    code = Code.get_from_string(\"cp2k@\"+inp_compname.value)\n",
    "\n",
    "    # calc object\n",
    "    calc = code.new_calc()\n",
    "    calc.description = inp_descr.value\n",
    "\n",
    "    # structure\n",
    "    calc.use_structure(structure)\n",
    "\n",
    "    # parameters\n",
    "    parameters = build_parameters()\n",
    "    calc.use_parameters(parameters)\n",
    "\n",
    "    # settings\n",
    "    if inp_mos.value:\n",
    "        settings = ParameterData(dict={'additional_retrieve_list':['*.cube']})\n",
    "        calc.use_settings(settings)\n",
    "    \n",
    "    # resources\n",
    "    calc.set_max_wallclock_seconds(3*60) # 3 min\n",
    "    calc.set_resources({\"num_machines\": 1})\n",
    "    return calc"
   ]
  },
  {
   "cell_type": "markdown",
   "metadata": {},
   "source": [
    "## Step 4: Test submission"
   ]
  },
  {
   "cell_type": "code",
   "execution_count": null,
   "metadata": {
    "collapsed": true
   },
   "outputs": [],
   "source": [
    "def on_test(b):\n",
    "    with test_out:\n",
    "        clear_output()\n",
    "        if structure is None:\n",
    "            print(\"Please select a structure.\")\n",
    "            return\n",
    "        calc = build_calc()\n",
    "        folder = calc.submit_test()[0]\n",
    "        fn = folder.get_abs_path(calc._INPUT_FILE_NAME)\n",
    "        content = open(fn).read()\n",
    "        pre_tag = '<pre style=\"width:600px; max-height:250px; overflow-x:auto; line-height:1em; font-size:0.8em;\">'   \n",
    "        box_preview.value = pre_tag+content+\"</pre>\"\n",
    "        # toggle visibility to workaround an apparent bug\n",
    "        #box_preview.visible = not chk_preview.value\n",
    "        #box_preview.visible = chk_preview.value\n",
    "        print(\"Test went fine :-)\")\n",
    "\n",
    "btn_test = ipw.Button(description=\"Test\")\n",
    "btn_test.on_click(on_test)\n",
    "#chk_preview = ipw.Checkbox(description='preview', value=False)\n",
    "box_preview = ipw.HTML()\n",
    "#ipw.jslink((chk_preview, 'value'), (box_preview, 'visible'))\n",
    "#display(ipw.VBox([ipw.HBox([btn_test, chk_preview]), box_preview]))\n",
    "#box_preview.layout.visibility\n",
    "test_out = ipw.Output()\n",
    "display(ipw.VBox([btn_test, box_preview]), test_out)"
   ]
  },
  {
   "cell_type": "markdown",
   "metadata": {},
   "source": [
    "## Step 5: Submit calculation"
   ]
  },
  {
   "cell_type": "code",
   "execution_count": null,
   "metadata": {
    "collapsed": true
   },
   "outputs": [],
   "source": [
    "def on_submit(b):\n",
    "    with submit_out:\n",
    "        clear_output()\n",
    "        calc = build_calc()\n",
    "        # store and submit\n",
    "        calc.store_all()\n",
    "        calc.submit()\n",
    "        msg = \"Submitted calculation: UUID=%s, pk=%s .<br>\"%(calc.uuid,calc.dbnode.pk)\n",
    "        msg += 'Results can be viewed <a href=\"view_cp2k_calc.ipynb?pk=%d\">here</a>'%calc.dbnode.pk\n",
    "        display(HTML(msg))\n",
    "\n",
    "btn_submit = ipw.Button(description=\"Submit\")\n",
    "btn_submit.on_click(on_submit)\n",
    "submit_out = ipw.Output()\n",
    "display(btn_submit, submit_out)"
   ]
  }
 ],
 "metadata": {
  "kernelspec": {
   "display_name": "Python 2",
   "language": "python",
   "name": "python2"
  },
  "language_info": {
   "codemirror_mode": {
    "name": "ipython",
    "version": 3
   },
   "file_extension": ".py",
   "mimetype": "text/x-python",
   "name": "python",
   "nbconvert_exporter": "python",
   "pygments_lexer": "ipython3",
   "version": "3.5.2"
  }
 },
 "nbformat": 4,
 "nbformat_minor": 2
}
