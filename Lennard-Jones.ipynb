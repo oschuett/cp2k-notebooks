{
 "cells": [
  {
   "cell_type": "code",
   "execution_count": 1,
   "metadata": {},
   "outputs": [],
   "source": [
    "import numpy as np\n",
    "import matplotlib.pyplot as plt\n",
    "from IPython.display import clear_output"
   ]
  },
  {
   "cell_type": "code",
   "execution_count": 2,
   "metadata": {},
   "outputs": [],
   "source": [
    "template = \"\"\"\n",
    "&GLOBAL                  ! section to select the kind of calculation\n",
    "   RUN_TYPE ENERGY       ! select type of calculation. In this case: ENERGY (=Single point calculation)\n",
    "&END GLOBAL\n",
    "&FORCE_EVAL              ! section with parameters and system description\n",
    "  METHOD FIST            ! Molecular Mechanics method\n",
    "  &MM                    ! specification of MM parameters \n",
    "    &FORCEFIELD          ! parameters needed to describe the potential \n",
    "    &SPLINE\n",
    "    EMAX_SPLINE 10000    ! numeric parameter to ensure calculation stability. Should not be changed\n",
    "    &END\n",
    "        &NONBONDED       ! parameters for the non bonded interactions\n",
    "          &LENNARD-JONES ! Lennard-Jones parameters\n",
    "          atoms Ar Ar\n",
    "          EPSILON    [K_e] 119.8\n",
    "          SIGMA [angstrom]   3.401\n",
    "          RCUT  [angstrom]  25.0\n",
    "        &END LENNARD-JONES\n",
    "      &END NONBONDED\n",
    "      &CHARGE\n",
    "        ATOM Ar\n",
    "        CHARGE 0.0\n",
    "      &END CHARGE\n",
    "    &END FORCEFIELD\n",
    "    &POISSON              ! solver for non periodic calculations\n",
    "     PERIODIC NONE\n",
    "      &EWALD\n",
    "        EWALD_TYPE none\n",
    "      &END EWALD\n",
    "    &END POISSON\n",
    "  &END MM\n",
    "  &SUBSYS                 ! system description \n",
    "    &CELL\n",
    "     ABC [angstrom] 10 10 10  \n",
    "     PERIODIC NONE\n",
    "    &END CELL\n",
    "    &COORD                \n",
    "      UNIT angstrom\n",
    "      Ar  0 0 0\n",
    "      Ar  0 0 <DIST>\n",
    "    &END COORD\n",
    "   &END SUBSYS\n",
    "&END FORCE_EVAL\"\"\""
   ]
  },
  {
   "cell_type": "code",
   "execution_count": 3,
   "metadata": {},
   "outputs": [
    {
     "data": {
      "image/png": "[encoded data removed]",
      "text/plain": [
       "<matplotlib.figure.Figure at 0x7fae71fb7198>"
      ]
     },
     "metadata": {},
     "output_type": "display_data"
    }
   ],
   "source": [
    "distances = np.linspace(start=3.25, stop=6.0, num=20)\n",
    "energies = []\n",
    "for dist in distances:\n",
    "    print(\".\",  end='')\n",
    "    \n",
    "    # create input file\n",
    "    inp = template.replace(\"<DIST>\", \"%f\"%dist)\n",
    "    open(\"energy.inp\", \"w\").write(inp)\n",
    "    \n",
    "    # run CP2K\n",
    "    ! cp2k.popt energy.inp > energy.out\n",
    "    \n",
    "    # retrieve energy from output\n",
    "    energy_line = [line for line in open(\"energy.out\").readlines() if \"ENERGY|\" in line]\n",
    "    energy = float(energy_line[0].split()[-1])\n",
    "    \n",
    "    # store energy\n",
    "    energies.append(energy)\n",
    "    \n",
    "# plot dissociation curve\n",
    "clear_output()\n",
    "plt.plot(distances, energies)\n",
    "plt.xlabel(\"Distance [Angstrom]\")\n",
    "plt.ylabel(\"Energy [Hartree]\")\n",
    "plt.show()"
   ]
  }
 ],
 "metadata": {
  "kernelspec": {
   "display_name": "Python 3",
   "language": "python",
   "name": "python3"
  },
  "language_info": {
   "codemirror_mode": {
    "name": "ipython",
    "version": 3
   },
   "file_extension": ".py",
   "mimetype": "text/x-python",
   "name": "python",
   "nbconvert_exporter": "python",
   "pygments_lexer": "ipython3",
   "version": "3.5.3"
  }
 },
 "nbformat": 4,
 "nbformat_minor": 2
}
