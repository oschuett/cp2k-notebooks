{
 "cells": [
  {
   "cell_type": "code",
   "execution_count": 1,
   "metadata": {},
   "outputs": [],
   "source": [
    "import ipywidgets as ipw\n",
    "from codepreviewer import CodePreviewer"
   ]
  },
  {
   "cell_type": "code",
   "execution_count": 2,
   "metadata": {},
   "outputs": [
    {
     "data": {
      "application/vnd.jupyter.widget-view+json": {
       "model_id": "e9ea868be1a74d6c889492f0a25994d0",
       "version_major": 2,
       "version_minor": 0
      },
      "text/plain": [
       "FloatSlider(value=3.8, description='Distance', max=6.0, min=3.0, step=0.01)"
      ]
     },
     "metadata": {},
     "output_type": "display_data"
    },
    {
     "data": {
      "application/vnd.jupyter.widget-view+json": {
       "model_id": "5d77c80536cd4419b769dfcfee157542",
       "version_major": 2,
       "version_minor": 0
      },
      "text/plain": [
       "Checkbox(value=False, description='Foo')"
      ]
     },
     "metadata": {},
     "output_type": "display_data"
    },
    {
     "data": {
      "application/vnd.jupyter.widget-view+json": {
       "model_id": "a391f2afb6b94eb78a52b7580f5e1996",
       "version_major": 2,
       "version_minor": 0
      },
      "text/plain": [
       "CodePreviewer(children=(HTML(value='<style>@keyframes changed_animation {\\n                     from {color: r…"
      ]
     },
     "metadata": {},
     "output_type": "display_data"
    }
   ],
   "source": [
    "template = \"\"\"\n",
    "&COORD                \n",
    "   UNIT angstrom\n",
    "   Ar  0.00  <DIST>  0.00\n",
    "   Ar  0.00  0.00  <DIST>\n",
    "&END COORD\n",
    "\"\"\"\n",
    "\n",
    "preview = CodePreviewer()\n",
    "distance_slider = ipw.FloatSlider(min=3, max=6, value=3.8, step=0.01, description=\"Distance\")\n",
    "checkbox = ipw.Checkbox(description=\"Foo\")\n",
    "\n",
    "def on_change(change):\n",
    "    distance = distance_slider.value\n",
    "    inp = template.replace(\"<DIST>\", \"%.2f\"%distance)\n",
    "    if checkbox.value:\n",
    "        inp += \"FOOOOOOOOO\"\n",
    "    preview.value = inp\n",
    "\n",
    "on_change(None)\n",
    "checkbox.observe(on_change, names='value')\n",
    "distance_slider.observe(on_change, names='value')\n",
    "\n",
    "display(distance_slider, checkbox, preview)"
   ]
  },
  {
   "cell_type": "code",
   "execution_count": null,
   "metadata": {},
   "outputs": [],
   "source": []
  }
 ],
 "metadata": {
  "kernelspec": {
   "display_name": "Python 3",
   "language": "python",
   "name": "python3"
  },
  "language_info": {
   "codemirror_mode": {
    "name": "ipython",
    "version": 3
   },
   "file_extension": ".py",
   "mimetype": "text/x-python",
   "name": "python",
   "nbconvert_exporter": "python",
   "pygments_lexer": "ipython3",
   "version": "3.6.7"
  }
 },
 "nbformat": 4,
 "nbformat_minor": 2
}
