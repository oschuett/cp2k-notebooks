{
 "cells": [
  {
   "cell_type": "code",
   "execution_count": 4,
   "metadata": {},
   "outputs": [],
   "source": [
    "import ipywidgets as ipw\n",
    "from codepreviewer import CodePreviewer"
   ]
  },
  {
   "cell_type": "code",
   "execution_count": 5,
   "metadata": {},
   "outputs": [
    {
     "data": {
      "application/vnd.jupyter.widget-view+json": {
       "model_id": "2e40a0c5ed0941769a572d1bd3d401f5",
       "version_major": 2,
       "version_minor": 0
      },
      "text/plain": [
       "FloatSlider(value=3.8, description='Distance', max=6.0, min=3.0, step=0.01)"
      ]
     },
     "metadata": {},
     "output_type": "display_data"
    },
    {
     "data": {
      "application/vnd.jupyter.widget-view+json": {
       "model_id": "e137f966b062448e8cef8b3f489da5cf",
       "version_major": 2,
       "version_minor": 0
      },
      "text/plain": [
       "CodePreviewer(children=(HTML(value='<style>@keyframes changed_animation {\\n                     from {color: r…"
      ]
     },
     "metadata": {},
     "output_type": "display_data"
    }
   ],
   "source": [
    "template = \"\"\"\n",
    "&COORD                \n",
    "   UNIT angstrom\n",
    "   Ar  0.00  <DIST>  0.00\n",
    "   Ar  0.00  0.00  <DIST>\n",
    "&END COORD\n",
    "\"\"\"\n",
    "\n",
    "preview = CodePreviewer()\n",
    "distance_slider = ipw.FloatSlider(min=3, max=6, value=3.8, step=0.01, description=\"Distance\")\n",
    "\n",
    "def on_change(change):\n",
    "    distance = distance_slider.value\n",
    "    preview.value = template.replace(\"<DIST>\", \"%.2f\"%distance)\n",
    "\n",
    "on_change(None)\n",
    "distance_slider.observe(on_change, names='value')\n",
    "\n",
    "display(distance_slider, preview)"
   ]
  }
 ],
 "metadata": {
  "kernelspec": {
   "display_name": "Python 3",
   "language": "python",
   "name": "python3"
  },
  "language_info": {
   "codemirror_mode": {
    "name": "ipython",
    "version": 3
   },
   "file_extension": ".py",
   "mimetype": "text/x-python",
   "name": "python",
   "nbconvert_exporter": "python",
   "pygments_lexer": "ipython3",
   "version": "3.6.7"
  }
 },
 "nbformat": 4,
 "nbformat_minor": 2
}
