{
 "cells": [
  {
   "cell_type": "code",
   "execution_count": null,
   "metadata": {},
   "outputs": [],
   "source": [
    "from IPython.display import clear_output\n",
    "import ipywidgets as ipw\n",
    "import difflib"
   ]
  },
  {
   "cell_type": "code",
   "execution_count": null,
   "metadata": {},
   "outputs": [],
   "source": [
    "template = \"\"\"\n",
    "&COORD                \n",
    "   UNIT angstrom\n",
    "   Ar  0.00  <DIST>  0.00\n",
    "   Ar  0.00  0.00  <DIST>\n",
    "&END COORD\n",
    "\"\"\""
   ]
  },
  {
   "cell_type": "code",
   "execution_count": null,
   "metadata": {},
   "outputs": [],
   "source": [
    "class CodePreviewer(ipw.Box):\n",
    "    def __init__(self):\n",
    "        self._value = None\n",
    "        self.html = ipw.HTML()\n",
    "        super().__init__([self.html])\n",
    " \n",
    "    @property\n",
    "    def value(self):\n",
    "        return self._value\n",
    "         \n",
    "    def _render(self, markup):\n",
    "        inner_html = markup.replace(\"\\n\", \"<br>\\n\").replace(\" \", \"&nbsp;\")\n",
    "        inner_html = inner_html.replace(\"<changed>\",\"<span style='color:red;font-weight:bold;'>\")\n",
    "        inner_html = inner_html.replace(\"</changed>\",\"</span>\")\n",
    "        full_html = \"<div style='font-family:monospace; line-height:1.3; border:1px solid black; padding: 10px'>\"\n",
    "        full_html += inner_html\n",
    "        full_html += \"</div>\"\n",
    "        self.html.value = full_html\n",
    "    \n",
    "    @value.setter\n",
    "    def value(self, new_value):\n",
    "        if not self._value:\n",
    "            self._render(new_value)\n",
    "            self._value = new_value\n",
    "            return\n",
    "            \n",
    "        differ = difflib.Differ()\n",
    "        diff = differ.compare(self._value.split(\"\\n\"), new_value.split(\"\\n\"))\n",
    "        markup_lines = []\n",
    "        changed_line = None\n",
    "        for line in diff:\n",
    "            line = line.strip(\"\\n\")\n",
    "            if line.startswith(\"  \"):\n",
    "                markup_lines.append(line[2:])\n",
    "            elif line.startswith(\"+ \"):\n",
    "                changed_line = line\n",
    "\n",
    "            elif line.startswith(\"? \") and changed_line:\n",
    "                d = len(changed_line) - len(line)\n",
    "                line = line + \" \" * d\n",
    "                markup_lines.append(\"\")\n",
    "                for annotation, char in zip(line[2:], changed_line[2:]):\n",
    "                    if annotation == \" \":\n",
    "                        markup_lines[-1] += char\n",
    "                    else:\n",
    "                        markup_lines[-1] += \"<changed>\" + char + \"</changed>\"\n",
    "                changed_line = None\n",
    "\n",
    "        self._render(\"\\n\".join(markup_lines))\n",
    "        self._value = new_value"
   ]
  },
  {
   "cell_type": "code",
   "execution_count": null,
   "metadata": {},
   "outputs": [],
   "source": [
    "preview = CodePreviewer()\n",
    "distance_slider = ipw.FloatSlider(min=3, max=6, value=3.8, description=\"Distance\")\n",
    "\n",
    "def on_change(change):\n",
    "    distance = distance_slider.value\n",
    "    preview.value = template.replace(\"<DIST>\", \"%.2f\"%distance)\n",
    "\n",
    "on_change(None)\n",
    "distance_slider.observe(on_change, names='value')\n",
    "\n",
    "display(distance_slider, preview)"
   ]
  }
 ],
 "metadata": {
  "kernelspec": {
   "display_name": "Python 3",
   "language": "python",
   "name": "python3"
  },
  "language_info": {
   "codemirror_mode": {
    "name": "ipython",
    "version": 3
   },
   "file_extension": ".py",
   "mimetype": "text/x-python",
   "name": "python",
   "nbconvert_exporter": "python",
   "pygments_lexer": "ipython3",
   "version": "3.6.7"
  }
 },
 "nbformat": 4,
 "nbformat_minor": 2
}
