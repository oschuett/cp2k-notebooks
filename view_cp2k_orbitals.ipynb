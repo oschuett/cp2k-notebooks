{
 "cells": [
  {
   "cell_type": "markdown",
   "metadata": {},
   "source": [
    "# View Molecular Orbitals"
   ]
  },
  {
   "cell_type": "code",
   "execution_count": null,
   "metadata": {
    "collapsed": true
   },
   "outputs": [],
   "source": [
    "from __future__ import print_function\n",
    "\n",
    "from aiida import load_dbenv, is_dbenv_loaded\n",
    "from aiida.backends import settings\n",
    "if not is_dbenv_loaded():\n",
    "    load_dbenv(profile=settings.AIIDADB_PROFILE)\n",
    "\n",
    "from aiida.orm import load_node \n",
    "\n",
    "import ipywidgets as ipw\n",
    "from IPython.display import display, clear_output\n",
    "\n",
    "import urlparse\n",
    "\n",
    "import nglview"
   ]
  },
  {
   "cell_type": "code",
   "execution_count": null,
   "metadata": {
    "collapsed": true
   },
   "outputs": [],
   "source": [
    "# parse URL\n",
    "url = urlparse.urlsplit(jupyter_notebook_url)\n",
    "querypart = urlparse.parse_qs(url.query)\n",
    "pk = int(querypart['pk'][0])\n",
    "calc = load_node(pk)"
   ]
  },
  {
   "cell_type": "code",
   "execution_count": null,
   "metadata": {},
   "outputs": [],
   "source": [
    "def on_mo_changed(c):\n",
    "    #while hasattr(viewer, \"component_0\"):\n",
    "    if hasattr(viewer, \"component_1\"):\n",
    "        viewer.component_1.remove_surface()\n",
    "        viewer.component_1.remove_surface()\n",
    "        cid = viewer.component_1.id\n",
    "        viewer.remove_component(cid)\n",
    "    \n",
    "    if inp_mo.value:\n",
    "        rn = calc.get_retrieved_node()\n",
    "        fn = rn.get_abs_path(inp_mo.value)\n",
    "        viewer.add_component(fn, defaultRepresentation=False)\n",
    "        on_isolevel_change(None)\n",
    "\n",
    "all_cubes = [fn for fn in calc.get_retrieved_node().get_folder_list() if fn.endswith(\".cube\")]\n",
    "inp_mo = ipw.Select(options=all_cubes, height=\"200px\")\n",
    "inp_mo.observe(on_mo_changed, \"value\")\n",
    "display(inp_mo)\n",
    "if len(all_cubes)==0:\n",
    "    print(\"No CUBE files found.\")"
   ]
  },
  {
   "cell_type": "code",
   "execution_count": null,
   "metadata": {},
   "outputs": [],
   "source": [
    "def on_isolevel_change(c):\n",
    "    #http://arose.github.io/ngl/api/typedef/index.html#static-typedef-SurfaceRepresentationParameters\n",
    "    if not hasattr(viewer, \"component_1\"):\n",
    "        return\n",
    "    viewer.component_1.remove_surface()\n",
    "    viewer.component_1.remove_surface()\n",
    "    #viewer.component_1.clear_representations()\n",
    "    v = sld_isolevel.value\n",
    "    viewer.component_1.add_surface(isolevel=+v, color=\"red\")\n",
    "    viewer.component_1.add_surface(isolevel=-v, color=\"blue\")\n",
    "\n",
    "sld_isolevel = ipw.FloatSlider(value=0.1, min=0, max=3.0, step=0.05, continuous_update=False)\n",
    "sld_isolevel.observe(on_isolevel_change, \"value\")\n",
    "display(ipw.HBox([ipw.Label(\"Isolevel:\"), sld_isolevel]))"
   ]
  },
  {
   "cell_type": "code",
   "execution_count": null,
   "metadata": {},
   "outputs": [],
   "source": [
    "viewer = nglview.NGLWidget()\n",
    "atoms = calc.inp.structure.get_ase()\n",
    "viewer.add_component(nglview.ASEStructure(atoms), defaultRepresentation=False)\n",
    "viewer.add_unitcell(component=0)\n",
    "viewer.add_ball_and_stick(component=0)\n",
    "viewer.center_view(component=0)\n",
    "display(viewer)\n",
    "\n",
    "# update view\n",
    "on_mo_changed(None)"
   ]
  },
  {
   "cell_type": "code",
   "execution_count": null,
   "metadata": {},
   "outputs": [],
   "source": [
    "viewer.component_1"
   ]
  }
 ],
 "metadata": {
  "kernelspec": {
   "display_name": "Python 2",
   "language": "python",
   "name": "python2"
  },
  "language_info": {
   "codemirror_mode": {
    "name": "ipython",
    "version": 3
   },
   "file_extension": ".py",
   "mimetype": "text/x-python",
   "name": "python",
   "nbconvert_exporter": "python",
   "pygments_lexer": "ipython3",
   "version": "3.5.2"
  }
 },
 "nbformat": 4,
 "nbformat_minor": 2
}
