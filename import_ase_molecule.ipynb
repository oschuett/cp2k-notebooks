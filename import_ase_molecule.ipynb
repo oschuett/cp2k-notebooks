{
 "cells": [
  {
   "cell_type": "markdown",
   "metadata": {},
   "source": [
    "# Import Molecule from ASE into AiiDA"
   ]
  },
  {
   "cell_type": "code",
   "execution_count": 3,
   "metadata": {},
   "outputs": [
    {
     "ename": "ImportError",
     "evalue": "No module named 'StringIO'",
     "output_type": "error",
     "traceback": [
      "\u001b[0;31m---------------------------------------------------------------------------\u001b[0m",
      "\u001b[0;31mImportError\u001b[0m                               Traceback (most recent call last)",
      "\u001b[0;32m<ipython-input-3-1580a4e3c19c>\u001b[0m in \u001b[0;36m<module>\u001b[0;34m()\u001b[0m\n\u001b[1;32m     14\u001b[0m \u001b[0;32mfrom\u001b[0m \u001b[0mIPython\u001b[0m\u001b[0;34m.\u001b[0m\u001b[0mdisplay\u001b[0m \u001b[0;32mimport\u001b[0m \u001b[0mdisplay\u001b[0m\u001b[0;34m,\u001b[0m \u001b[0mclear_output\u001b[0m\u001b[0;34m\u001b[0m\u001b[0m\n\u001b[1;32m     15\u001b[0m \u001b[0;31m#import nglview\u001b[0m\u001b[0;34m\u001b[0m\u001b[0;34m\u001b[0m\u001b[0m\n\u001b[0;32m---> 16\u001b[0;31m \u001b[0;32mimport\u001b[0m \u001b[0mStringIO\u001b[0m\u001b[0;34m\u001b[0m\u001b[0m\n\u001b[0m",
      "\u001b[0;31mImportError\u001b[0m: No module named 'StringIO'"
     ]
    }
   ],
   "source": [
    "from __future__ import print_function\n",
    "\n",
    "#from aiida import load_dbenv, is_dbenv_loaded\n",
    "#from aiida.backends import settings\n",
    "#if not is_dbenv_loaded():\n",
    "#    load_dbenv(profile=settings.AIIDADB_PROFILE)\n",
    "\n",
    "#from aiida.orm.data.structure import StructureData\n",
    "\n",
    "import ase.build\n",
    "from ase.collections import g2\n",
    "\n",
    "import ipywidgets as ipw\n",
    "from IPython.display import display, clear_output\n",
    "#import nglview\n",
    "import StringIO"
   ]
  },
  {
   "cell_type": "code",
   "execution_count": null,
   "metadata": {
    "collapsed": true
   },
   "outputs": [],
   "source": [
    "viewer = nglview.NGLWidget()\n",
    "coords = ipw.HTML()\n",
    "display(ipw.VBox([viewer, coords]))"
   ]
  },
  {
   "cell_type": "code",
   "execution_count": null,
   "metadata": {
    "collapsed": true
   },
   "outputs": [],
   "source": [
    "def update_view():\n",
    "    global atoms\n",
    "    if hasattr(viewer, \"component_0\"):\n",
    "        viewer.component_0.remove_ball_and_stick()\n",
    "        viewer.component_0.remove_unitcell()\n",
    "        cid = viewer.component_0.id\n",
    "        viewer.remove_component(cid)\n",
    "\n",
    "    viewer.add_component(nglview.ASEStructure(atoms)) # adds ball+stick\n",
    "    viewer.add_unitcell()\n",
    "    viewer.center_view()\n",
    "       \n",
    "    tmp = StringIO.StringIO()\n",
    "    atoms.write(tmp, format=\"xyz\")\n",
    "    coords.value = \"<pre>\"+tmp.getvalue()+\"</pre>\"\n",
    "    tmp.close()"
   ]
  },
  {
   "cell_type": "markdown",
   "metadata": {},
   "source": [
    "## Step 1: Select Molecule"
   ]
  },
  {
   "cell_type": "code",
   "execution_count": null,
   "metadata": {
    "collapsed": true
   },
   "outputs": [],
   "source": [
    "def on_mol_change(c):\n",
    "    global atoms\n",
    "    atoms = ase.build.molecule(inp_mol.value)\n",
    "    update_view()\n",
    "    \n",
    "inp_mol = ipw.Dropdown(options=g2.names, value=\"H2O\")\n",
    "inp_mol.observe(on_mol_change, names='value')\n",
    "display(inp_mol)\n",
    "on_mol_change(None)"
   ]
  },
  {
   "cell_type": "markdown",
   "metadata": {},
   "source": [
    "## Step 2: Define Cell"
   ]
  },
  {
   "cell_type": "code",
   "execution_count": null,
   "metadata": {
    "collapsed": true
   },
   "outputs": [],
   "source": [
    "def on_click_vac(b):\n",
    "    global atoms\n",
    "    atoms.center(vacuum=inp_vac.value)\n",
    "    atoms.pbc = (True,True,True)\n",
    "    update_view()\n",
    "\n",
    "inp_vac = ipw.FloatText(value=2.5)\n",
    "lab_vac = ipw.Label(u'Vacuum [Å]:')\n",
    "btn_vac = ipw.Button(description=\"Add Vacuum\")\n",
    "btn_vac.on_click(on_click_vac)\n",
    "display(ipw.HBox([lab_vac, inp_vac, btn_vac]))"
   ]
  },
  {
   "cell_type": "markdown",
   "metadata": {},
   "source": [
    "## Step 3: Store in AiiDA Database"
   ]
  },
  {
   "cell_type": "code",
   "execution_count": null,
   "metadata": {
    "collapsed": true
   },
   "outputs": [],
   "source": [
    "def on_click_store(b):\n",
    "    global atoms\n",
    "    with store_out:\n",
    "        clear_output()\n",
    "        s = StructureData(ase=atoms)\n",
    "        s.description = inp_descr.value\n",
    "        s.store()\n",
    "        print(\"Stored in AiiDA: \"+repr(s))\n",
    "\n",
    "store_out = ipw.Output()\n",
    "inp_descr = ipw.Text(placeholder=\"Description (optional)\")\n",
    "btn_store = ipw.Button(description='Store in AiiDA')\n",
    "btn_store.on_click(on_click_store)\n",
    "display(ipw.HBox([btn_store, inp_descr]), store_out)"
   ]
  }
 ],
 "metadata": {
  "kernelspec": {
   "display_name": "Python 2",
   "language": "python",
   "name": "python2"
  },
  "language_info": {
   "codemirror_mode": {
    "name": "ipython",
    "version": 3
   },
   "file_extension": ".py",
   "mimetype": "text/x-python",
   "name": "python",
   "nbconvert_exporter": "python",
   "pygments_lexer": "ipython3",
   "version": "3.5.2"
  }
 },
 "nbformat": 4,
 "nbformat_minor": 2
}
