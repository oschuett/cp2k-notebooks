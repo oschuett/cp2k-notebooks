{
 "cells": [
  {
   "cell_type": "code",
   "execution_count": null,
   "metadata": {},
   "outputs": [],
   "source": [
    "import ase.build\n",
    "import ase.collections\n",
    "import nglview\n",
    "import ipywidgets as ipw"
   ]
  },
  {
   "cell_type": "code",
   "execution_count": null,
   "metadata": {},
   "outputs": [],
   "source": [
    "def on_mol_change(c):\n",
    "    global atoms\n",
    "    atoms = ase.build.molecule(inp_mol.value)\n",
    "    viewer.clear()\n",
    "    viewer.add_component(nglview.ASEStructure(atoms)) # adds ball+stick\n",
    "    viewer.center()\n",
    "\n",
    "inp_mol = ipw.Dropdown(description=\"Molecule:\", options=sorted(ase.collections.g2.names), value=\"H2O\")\n",
    "inp_mol.observe(on_mol_change, names='value')\n",
    "\n",
    "viewer = nglview.NGLWidget()\n",
    "on_mol_change(None)\n",
    "display(inp_mol, viewer)"
   ]
  },
  {
   "cell_type": "code",
   "execution_count": null,
   "metadata": {},
   "outputs": [],
   "source": [
    "def build_inp():\n",
    "    inp = \"\"\"\n",
    "&GLOBAL\n",
    "&END GLOBAL\n",
    "&FORCE_EVAL\n",
    "    METHOD Quickstep\n",
    "    &DFT\n",
    "       BASIS_SET_FILE_NAME BASIS_MOLOPT\n",
    "       POTENTIAL_FILE_NAME GTH_POTENTIALS\n",
    "       &XC\n",
    "          &XC_FUNCTIONAL PBE\n",
    "          &END XC_FUNCTIONAL\n",
    "       &END XC\n",
    "       &PRINT\n",
    "          &MO_CUBES\n",
    "             NHOMO 5\n",
    "             NLUMO 5\n",
    "          &END MO_CUBES\n",
    "       &END PRINT\n",
    "    &END DFT\n",
    "    &SUBSYS\n",
    "       &CELL\n",
    "          ABC 5.0 5.0 5.0\n",
    "       &END CELL\n",
    "       &TOPOLOGY\n",
    "          COORD_FILE_NAME coords.xyz\n",
    "          COORD_FILE_FORMAT XYZ\n",
    "       &END TOPOLOGY\n",
    "       &KIND C\n",
    "          BASIS_SET DZVP-MOLOPT-GTH\n",
    "          POTENTIAL GTH-PBE\n",
    "       &END KIND\n",
    "       &KIND H\n",
    "          BASIS_SET DZVP-MOLOPT-GTH\n",
    "          POTENTIAL GTH-PBE\n",
    "       &END KIND\n",
    "       &KIND O\n",
    "          BASIS_SET DZVP-MOLOPT-GTH\n",
    "          POTENTIAL GTH-PBE\n",
    "       &END KIND\n",
    "    &END SUBSYS\n",
    "&END FORCE_EVAL\n",
    "\"\"\"\n",
    "    return inp"
   ]
  },
  {
   "cell_type": "code",
   "execution_count": null,
   "metadata": {},
   "outputs": [],
   "source": [
    "def run_cp2k(b):\n",
    "    atoms.write(\"coords.xyz\")\n",
    "    open(\"demo.inp\", \"w\").write(build_inp())\n",
    "    ! cat demo.inp\n",
    "    ! cp2k.popt demo.inp\n",
    "    \n",
    "btn_run = ipw.Button(description=\"Run CP2K\")\n",
    "btn_run.on_click(run_cp2k)\n",
    "display(btn_run)"
   ]
  }
 ],
 "metadata": {
  "kernelspec": {
   "display_name": "Python 3",
   "language": "python",
   "name": "python3"
  },
  "language_info": {
   "codemirror_mode": {
    "name": "ipython",
    "version": 3
   },
   "file_extension": ".py",
   "mimetype": "text/x-python",
   "name": "python",
   "nbconvert_exporter": "python",
   "pygments_lexer": "ipython3",
   "version": "3.5.2"
  }
 },
 "nbformat": 4,
 "nbformat_minor": 2
}
