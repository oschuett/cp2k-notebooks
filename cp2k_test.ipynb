{
 "cells": [
  {
   "cell_type": "code",
   "execution_count": null,
   "metadata": {},
   "outputs": [],
   "source": [
    "import ase.build\n",
    "import ase.collections\n",
    "import nglview\n",
    "from glob import glob\n",
    "import ipywidgets as ipw\n",
    "from IPython.display import clear_output"
   ]
  },
  {
   "cell_type": "code",
   "execution_count": null,
   "metadata": {},
   "outputs": [],
   "source": [
    "mol_comp = None\n",
    "def on_mol_change(c):\n",
    "    global atoms, mol_comp\n",
    "    atoms = ase.build.molecule(inp_mol.value)\n",
    "    atoms.center(vacuum=2.0)\n",
    "    atoms.pbc = True\n",
    "    \n",
    "    if mol_comp:\n",
    "        viewer.remove_component(mol_comp)\n",
    "    if surf_comp:\n",
    "        viewer.remove_component(surf_comp)\n",
    "    with out_cp2k:\n",
    "        clear_output()\n",
    "        \n",
    "    mol_comp = viewer.add_component(nglview.ASEStructure(atoms)) # adds ball+stick\n",
    "    viewer.add_unitcell()\n",
    "    #viewer.center()\n",
    "\n",
    "inp_mol = ipw.Dropdown(description=\"Molecule:\", options=sorted(ase.collections.g2.names), value=\"H2O\")\n",
    "inp_mol.observe(on_mol_change, names='value')\n",
    "display(inp_mol)"
   ]
  },
  {
   "cell_type": "code",
   "execution_count": null,
   "metadata": {},
   "outputs": [],
   "source": [
    "def build_inp(atoms):\n",
    "    kind_sections = \"\"\n",
    "    for k in sorted(set(atoms.get_chemical_symbols())):\n",
    "        kind_sections += \"       &KIND %s\\n\" % k\n",
    "        kind_sections += \"          BASIS_SET DZVP-MOLOPT-GTH\\n\"\n",
    "        kind_sections += \"          POTENTIAL GTH-PBE\\n\"\n",
    "        kind_sections += \"       &END KIND\\n\"\n",
    "    \n",
    "    c = atoms.cell.diagonal()\n",
    "    inp = \"\"\"\n",
    "&GLOBAL\n",
    "&END GLOBAL\n",
    "&FORCE_EVAL\n",
    "    METHOD Quickstep\n",
    "    &DFT\n",
    "       BASIS_SET_FILE_NAME BASIS_MOLOPT\n",
    "       POTENTIAL_FILE_NAME GTH_POTENTIALS\n",
    "       &XC\n",
    "          &XC_FUNCTIONAL PBE\n",
    "          &END XC_FUNCTIONAL\n",
    "       &END XC\n",
    "       &PRINT\n",
    "          &MO_CUBES\n",
    "             NHOMO 5\n",
    "             NLUMO 5\n",
    "          &END MO_CUBES\n",
    "       &END PRINT\n",
    "    &END DFT\n",
    "    &SUBSYS\n",
    "       &CELL\n",
    "          ABC %f  %f  %f\n",
    "       &END CELL\n",
    "       &TOPOLOGY\n",
    "          COORD_FILE_NAME coords.xyz\n",
    "          COORD_FILE_FORMAT XYZ\n",
    "       &END TOPOLOGY\n",
    "%s    &END SUBSYS\n",
    "&END FORCE_EVAL\n",
    "\"\"\"% (c[0], c[1], c[2], kind_sections)\n",
    "    return inp"
   ]
  },
  {
   "cell_type": "code",
   "execution_count": null,
   "metadata": {},
   "outputs": [],
   "source": [
    "def on_run_click(b):\n",
    "    run_cp2k()\n",
    "\n",
    "btn_run = ipw.Button(description=\"Run CP2K\")\n",
    "btn_run.on_click(on_run_click)\n",
    "display(btn_run)"
   ]
  },
  {
   "cell_type": "code",
   "execution_count": null,
   "metadata": {},
   "outputs": [],
   "source": [
    "out_cp2k = ipw.Output()\n",
    "display(out_cp2k)"
   ]
  },
  {
   "cell_type": "code",
   "execution_count": null,
   "metadata": {},
   "outputs": [],
   "source": [
    "def run_cp2k():\n",
    "    inp = build_inp(atoms)\n",
    "    open(\"demo.inp\", \"w\").write(inp)\n",
    "    atoms.write(\"coords.xyz\")\n",
    "    \n",
    "    #TODO: remove old files\n",
    "    #TODO: allow for abort\n",
    "    with out_cp2k:\n",
    "        clear_output()\n",
    "        ! cat demo.inp\n",
    "        ! cp2k.popt demo.inp\n",
    "\n",
    "    on_cp2k_done()"
   ]
  },
  {
   "cell_type": "code",
   "execution_count": null,
   "metadata": {},
   "outputs": [],
   "source": [
    "def on_cp2k_done():\n",
    "    global inp_mo, sld_isolevel\n",
    "    all_cubes = glob(\"*.cube\")\n",
    "    inp_mo = ipw.Select(options=all_cubes, height=\"200px\")\n",
    "    inp_mo.observe(on_orb_changed, \"value\")\n",
    "    \n",
    "    sld_isolevel = ipw.FloatSlider(description=\"Isolevel\", value=0.1, min=0, max=3.0, step=0.05,\n",
    "                                   continuous_update=False)\n",
    "    sld_isolevel.observe(on_isolevel_change, \"value\")\n",
    "\n",
    "    display(inp_mo, sld_isolevel)\n",
    "    on_orb_changed(None)"
   ]
  },
  {
   "cell_type": "code",
   "execution_count": null,
   "metadata": {},
   "outputs": [],
   "source": [
    "surf_comp = None\n",
    "\n",
    "def on_orb_changed(c):\n",
    "    global surf_comp\n",
    "    if surf_comp:\n",
    "        viewer.remove_component(surf_comp)\n",
    "    \n",
    "    fn = inp_mo.value\n",
    "    surf_comp = viewer.add_component(fn, defaultRepresentation=False)\n",
    "    on_isolevel_change(None)"
   ]
  },
  {
   "cell_type": "code",
   "execution_count": null,
   "metadata": {},
   "outputs": [],
   "source": [
    "def on_isolevel_change(c):\n",
    "    viewer.component_1.clear_representations()\n",
    "    v = sld_isolevel.value\n",
    "    viewer.component_1.add_surface(isolevel=+v, color=\"red\")\n",
    "    viewer.component_1.add_surface(isolevel=-v, color=\"blue\")"
   ]
  },
  {
   "cell_type": "code",
   "execution_count": null,
   "metadata": {},
   "outputs": [],
   "source": [
    "viewer = nglview.NGLWidget()\n",
    "display(viewer)"
   ]
  },
  {
   "cell_type": "code",
   "execution_count": null,
   "metadata": {},
   "outputs": [],
   "source": [
    "on_mol_change(None) # start"
   ]
  }
 ],
 "metadata": {
  "kernelspec": {
   "display_name": "Python 3",
   "language": "python",
   "name": "python3"
  },
  "language_info": {
   "codemirror_mode": {
    "name": "ipython",
    "version": 3
   },
   "file_extension": ".py",
   "mimetype": "text/x-python",
   "name": "python",
   "nbconvert_exporter": "python",
   "pygments_lexer": "ipython3",
   "version": "3.5.3"
  }
 },
 "nbformat": 4,
 "nbformat_minor": 2
}
